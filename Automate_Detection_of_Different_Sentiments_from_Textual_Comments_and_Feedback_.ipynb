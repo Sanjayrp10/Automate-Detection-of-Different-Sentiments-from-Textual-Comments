{
  "nbformat": 4,
  "nbformat_minor": 0,
  "metadata": {
    "colab": {
      "provenance": []
    },
    "kernelspec": {
      "name": "python3",
      "display_name": "Python 3"
    },
    "language_info": {
      "name": "python"
    }
  },
  "cells": [
    {
      "cell_type": "code",
      "execution_count": 4,
      "metadata": {
        "id": "RQEIeTc7RyfZ"
      },
      "outputs": [],
      "source": [
        "import tensorflow as tf\n",
        "import tensorflow.keras as keras\n",
        "import numpy as np\n",
        "import pandas as pd\n",
        "import matplotlib.pyplot as plt\n",
        "imdb_reviews=pd.read_csv(\"imdb_reviews.csv\")\n",
        "test_reviews=pd.read_csv(\"test_reviews.csv\")\n",
        "word_index=pd.read_csv(\"word_indexes.csv\")\n",
        "word_index=dict(zip(word_index.Words,word_index.Indexes))\n",
        "word_index[\"<PAD>\"]=0\n",
        "word_index[\"<START\"]=1\n",
        "word_index[\"<UNK>\"]=2\n",
        "word_index[\"<UNUSED>\"]=3"
      ]
    },
    {
      "cell_type": "code",
      "source": [
        "def review_encoder(text):\n",
        "  arr=[word_index[word] for word in text]\n",
        "  return arr\n",
        "train_data,train_labels=imdb_reviews['Reviews'],imdb_reviews['Sentiment']\n",
        "test_data, test_labels=test_reviews['Reviews'],test_reviews['Sentiment']"
      ],
      "metadata": {
        "id": "RwR_bR_vaw9s"
      },
      "execution_count": 7,
      "outputs": []
    },
    {
      "cell_type": "code",
      "source": [
        "train_data=train_data.apply(lambda review:review.split())\n",
        "test_data=test_data.apply(lambda review:review.split())\n",
        "train_data=train_data.apply(review_encoder)\n",
        "test_data=test_data.apply(review_encoder)"
      ],
      "metadata": {
        "id": "vMAzxGn6a1qW"
      },
      "execution_count": 8,
      "outputs": []
    },
    {
      "cell_type": "code",
      "source": [
        "def encode_sentiments(x):\n",
        "  if x=='positive':\n",
        "    return 1\n",
        "  else:\n",
        "    return 0\n",
        "\n",
        "train_labels=train_labels.apply(encode_sentiments)\n",
        "test_labels=test_labels.apply(encode_sentiments)\n",
        "train_data=keras.preprocessing.sequence.pad_sequences(train_data,value=word_index[\"<PAD>\"],padding='post',maxlen=500)\n",
        "test_data=keras.preprocessing.sequence.pad_sequences(test_data,value=word_index[\"<PAD>\"],padding='post',maxlen=500)"
      ],
      "metadata": {
        "id": "5JC8tfZsbQI9"
      },
      "execution_count": 9,
      "outputs": []
    },
    {
      "cell_type": "code",
      "source": [
        "model=keras.Sequential([keras.layers.Embedding(10000,16,input_length=500),\n",
        "                        keras.layers.GlobalAveragePooling1D(),\n",
        "                        keras.layers.Dense(16,activation='relu'),\n",
        "                        keras.layers.Dense(1,activation='sigmoid')])\n",
        "model.compile(optimizer='adam',loss='binary_crossentropy',metrics=['accuracy'])"
      ],
      "metadata": {
        "id": "wru1yVi6bU61"
      },
      "execution_count": 10,
      "outputs": []
    },
    {
      "cell_type": "code",
      "source": [
        "#training the model\n",
        "history=model.fit(train_data,train_labels,epochs=30,batch_size=512,validation_data=(test_data,test_labels))\n"
      ],
      "metadata": {
        "colab": {
          "base_uri": "https://localhost:8080/"
        },
        "id": "wZitgWONbXwL",
        "outputId": "57b1a0fd-c762-4fbb-ea4e-7ff04f178d8b"
      },
      "execution_count": 11,
      "outputs": [
        {
          "output_type": "stream",
          "name": "stdout",
          "text": [
            "Epoch 1/30\n",
            "49/49 [==============================] - 3s 43ms/step - loss: 0.6918 - accuracy: 0.5475 - val_loss: 0.6893 - val_accuracy: 0.7325\n",
            "Epoch 2/30\n",
            "49/49 [==============================] - 2s 37ms/step - loss: 0.6830 - accuracy: 0.6956 - val_loss: 0.6756 - val_accuracy: 0.7486\n",
            "Epoch 3/30\n",
            "49/49 [==============================] - 2s 39ms/step - loss: 0.6612 - accuracy: 0.7532 - val_loss: 0.6478 - val_accuracy: 0.7593\n",
            "Epoch 4/30\n",
            "49/49 [==============================] - 2s 39ms/step - loss: 0.6222 - accuracy: 0.7840 - val_loss: 0.6034 - val_accuracy: 0.7871\n",
            "Epoch 5/30\n",
            "49/49 [==============================] - 2s 38ms/step - loss: 0.5666 - accuracy: 0.8112 - val_loss: 0.5487 - val_accuracy: 0.8070\n",
            "Epoch 6/30\n",
            "49/49 [==============================] - 2s 36ms/step - loss: 0.5052 - accuracy: 0.8344 - val_loss: 0.4946 - val_accuracy: 0.8284\n",
            "Epoch 7/30\n",
            "49/49 [==============================] - 2s 40ms/step - loss: 0.4482 - accuracy: 0.8555 - val_loss: 0.4478 - val_accuracy: 0.8394\n",
            "Epoch 8/30\n",
            "49/49 [==============================] - 2s 37ms/step - loss: 0.4014 - accuracy: 0.8675 - val_loss: 0.4110 - val_accuracy: 0.8531\n",
            "Epoch 9/30\n",
            "49/49 [==============================] - 2s 38ms/step - loss: 0.3633 - accuracy: 0.8787 - val_loss: 0.3828 - val_accuracy: 0.8600\n",
            "Epoch 10/30\n",
            "49/49 [==============================] - 2s 38ms/step - loss: 0.3341 - accuracy: 0.8864 - val_loss: 0.3617 - val_accuracy: 0.8656\n",
            "Epoch 11/30\n",
            "49/49 [==============================] - 2s 36ms/step - loss: 0.3100 - accuracy: 0.8939 - val_loss: 0.3449 - val_accuracy: 0.8691\n",
            "Epoch 12/30\n",
            "49/49 [==============================] - 2s 39ms/step - loss: 0.2905 - accuracy: 0.8996 - val_loss: 0.3333 - val_accuracy: 0.8714\n",
            "Epoch 13/30\n",
            "49/49 [==============================] - 2s 39ms/step - loss: 0.2745 - accuracy: 0.9048 - val_loss: 0.3222 - val_accuracy: 0.8752\n",
            "Epoch 14/30\n",
            "49/49 [==============================] - 2s 38ms/step - loss: 0.2598 - accuracy: 0.9099 - val_loss: 0.3135 - val_accuracy: 0.8777\n",
            "Epoch 15/30\n",
            "49/49 [==============================] - 2s 37ms/step - loss: 0.2475 - accuracy: 0.9146 - val_loss: 0.3074 - val_accuracy: 0.8787\n",
            "Epoch 16/30\n",
            "49/49 [==============================] - 2s 38ms/step - loss: 0.2369 - accuracy: 0.9173 - val_loss: 0.3014 - val_accuracy: 0.8815\n",
            "Epoch 17/30\n",
            "49/49 [==============================] - 2s 37ms/step - loss: 0.2264 - accuracy: 0.9215 - val_loss: 0.2970 - val_accuracy: 0.8829\n",
            "Epoch 18/30\n",
            "49/49 [==============================] - 2s 38ms/step - loss: 0.2175 - accuracy: 0.9253 - val_loss: 0.2938 - val_accuracy: 0.8837\n",
            "Epoch 19/30\n",
            "49/49 [==============================] - 2s 45ms/step - loss: 0.2091 - accuracy: 0.9275 - val_loss: 0.2919 - val_accuracy: 0.8842\n",
            "Epoch 20/30\n",
            "49/49 [==============================] - 2s 36ms/step - loss: 0.2016 - accuracy: 0.9301 - val_loss: 0.2923 - val_accuracy: 0.8833\n",
            "Epoch 21/30\n",
            "49/49 [==============================] - 2s 38ms/step - loss: 0.1947 - accuracy: 0.9326 - val_loss: 0.2878 - val_accuracy: 0.8853\n",
            "Epoch 22/30\n",
            "49/49 [==============================] - 2s 39ms/step - loss: 0.1878 - accuracy: 0.9352 - val_loss: 0.2874 - val_accuracy: 0.8854\n",
            "Epoch 23/30\n",
            "49/49 [==============================] - 2s 38ms/step - loss: 0.1814 - accuracy: 0.9387 - val_loss: 0.2859 - val_accuracy: 0.8861\n",
            "Epoch 24/30\n",
            "49/49 [==============================] - 2s 39ms/step - loss: 0.1755 - accuracy: 0.9412 - val_loss: 0.2884 - val_accuracy: 0.8859\n",
            "Epoch 25/30\n",
            "49/49 [==============================] - 2s 45ms/step - loss: 0.1706 - accuracy: 0.9428 - val_loss: 0.2865 - val_accuracy: 0.8858\n",
            "Epoch 26/30\n",
            "49/49 [==============================] - 2s 40ms/step - loss: 0.1652 - accuracy: 0.9444 - val_loss: 0.2866 - val_accuracy: 0.8861\n",
            "Epoch 27/30\n",
            "49/49 [==============================] - 2s 36ms/step - loss: 0.1611 - accuracy: 0.9461 - val_loss: 0.2868 - val_accuracy: 0.8863\n",
            "Epoch 28/30\n",
            "49/49 [==============================] - 2s 38ms/step - loss: 0.1558 - accuracy: 0.9482 - val_loss: 0.2892 - val_accuracy: 0.8855\n",
            "Epoch 29/30\n",
            "49/49 [==============================] - 2s 37ms/step - loss: 0.1517 - accuracy: 0.9500 - val_loss: 0.2898 - val_accuracy: 0.8856\n",
            "Epoch 30/30\n",
            "49/49 [==============================] - 2s 36ms/step - loss: 0.1471 - accuracy: 0.9517 - val_loss: 0.2921 - val_accuracy: 0.8859\n"
          ]
        }
      ]
    },
    {
      "cell_type": "code",
      "source": [
        "index=np.random.randint(1,1000)\n",
        "print(index)\n",
        "user_review=test_reviews.loc[index]\n",
        "print(user_review)"
      ],
      "metadata": {
        "colab": {
          "base_uri": "https://localhost:8080/"
        },
        "id": "37o5jyJIbr6W",
        "outputId": "c9467fd5-d8d3-4e6f-9626-e67b56cd0f30"
      },
      "execution_count": 12,
      "outputs": [
        {
          "output_type": "stream",
          "name": "stdout",
          "text": [
            "122\n",
            "Reviews      <START now infamous western that was at its ti...\n",
            "Sentiment                                             negative\n",
            "Name: 122, dtype: object\n"
          ]
        }
      ]
    },
    {
      "cell_type": "code",
      "source": [
        "user_review=test_data[index]\n",
        "user_review=np.array([user_review])\n",
        "if (model.predict(user_review)>0.5).astype(\"int32\"):\n",
        "  print(\"positive sentiment\")\n",
        "else:\n",
        "  print(\"negative sentiment\")"
      ],
      "metadata": {
        "colab": {
          "base_uri": "https://localhost:8080/"
        },
        "id": "r5l5FwVqbujd",
        "outputId": "13a1333c-2e93-4987-e1e8-2bfa4426fcc9"
      },
      "execution_count": 13,
      "outputs": [
        {
          "output_type": "stream",
          "name": "stdout",
          "text": [
            "1/1 [==============================] - 0s 280ms/step\n",
            "negative sentiment\n"
          ]
        }
      ]
    }
  ]
}